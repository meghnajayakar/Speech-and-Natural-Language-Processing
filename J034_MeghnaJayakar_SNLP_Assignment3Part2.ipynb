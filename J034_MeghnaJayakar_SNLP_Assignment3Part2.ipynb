{
 "cells": [
  {
   "cell_type": "markdown",
   "id": "b697c8ac",
   "metadata": {},
   "source": [
    "#### J034 Meghna Jayakar Lab 3 Part 2\n",
    "\n",
    "4/8/24"
   ]
  },
  {
   "cell_type": "code",
   "execution_count": 1,
   "id": "277cddfa",
   "metadata": {},
   "outputs": [],
   "source": [
    "import numpy as np\n",
    "import pandas as pd\n",
    "import re"
   ]
  },
  {
   "cell_type": "code",
   "execution_count": 9,
   "id": "bfc8c765",
   "metadata": {},
   "outputs": [
    {
     "data": {
      "text/html": [
       "<div>\n",
       "<style scoped>\n",
       "    .dataframe tbody tr th:only-of-type {\n",
       "        vertical-align: middle;\n",
       "    }\n",
       "\n",
       "    .dataframe tbody tr th {\n",
       "        vertical-align: top;\n",
       "    }\n",
       "\n",
       "    .dataframe thead th {\n",
       "        text-align: right;\n",
       "    }\n",
       "</style>\n",
       "<table border=\"1\" class=\"dataframe\">\n",
       "  <thead>\n",
       "    <tr style=\"text-align: right;\">\n",
       "      <th></th>\n",
       "      <th>Input</th>\n",
       "      <th>Expected Output</th>\n",
       "    </tr>\n",
       "  </thead>\n",
       "  <tbody>\n",
       "    <tr>\n",
       "      <th>0</th>\n",
       "      <td>The event will take place on March 5, 2023.</td>\n",
       "      <td>05/03/2023</td>\n",
       "    </tr>\n",
       "    <tr>\n",
       "      <th>1</th>\n",
       "      <td>Her birthday is on 07/08/1990.</td>\n",
       "      <td>07/08/1990</td>\n",
       "    </tr>\n",
       "    <tr>\n",
       "      <th>2</th>\n",
       "      <td>The deadline is 2022-12-31.</td>\n",
       "      <td>31/12/2022</td>\n",
       "    </tr>\n",
       "    <tr>\n",
       "      <th>3</th>\n",
       "      <td>We met on 1st of January 2000.</td>\n",
       "      <td>01/01/2000</td>\n",
       "    </tr>\n",
       "    <tr>\n",
       "      <th>4</th>\n",
       "      <td>The concert is scheduled for 15th September, 2...</td>\n",
       "      <td>15/09/2021</td>\n",
       "    </tr>\n",
       "  </tbody>\n",
       "</table>\n",
       "</div>"
      ],
      "text/plain": [
       "                                               Input Expected Output\n",
       "0        The event will take place on March 5, 2023.      05/03/2023\n",
       "1                     Her birthday is on 07/08/1990.      07/08/1990\n",
       "2                        The deadline is 2022-12-31.      31/12/2022\n",
       "3                     We met on 1st of January 2000.      01/01/2000\n",
       "4  The concert is scheduled for 15th September, 2...      15/09/2021"
      ]
     },
     "execution_count": 9,
     "metadata": {},
     "output_type": "execute_result"
    }
   ],
   "source": [
    "df = pd.read_csv('./date_parser_testcases.csv')\n",
    "df.head()"
   ]
  },
  {
   "cell_type": "markdown",
   "id": "52bdc64b",
   "metadata": {},
   "source": [
    "#### Parse Date Function"
   ]
  },
  {
   "cell_type": "code",
   "execution_count": 16,
   "id": "6e1bd1c0",
   "metadata": {
    "scrolled": false
   },
   "outputs": [],
   "source": [
    "def parse_date(text):\n",
    "    patterns = [r'(\\d{1,2})(?:st|nd|rd|th)?\\s(of\\s)?(\\b\\w+\\b)\\s(\\d{4})',  \n",
    "        r'(\\b\\w+\\b)\\s(\\d{1,2})(?:st|nd|rd|th)?,?\\s(\\d{4})',               \n",
    "        r'(\\d{4})[-/\\.](\\d{1,2})[-/\\.](\\d{1,2})',                         \n",
    "        r'(\\d{1,2})[-/\\.](\\d{1,2})[-/\\.](\\d{4})',                         \n",
    "        r'(\\d{1,2})[-/\\.](\\d{1,2})[-/\\.](\\d{2})',                         \n",
    "        r'(\\d{4})[-/](\\d{1,2})[-/](\\d{1,2})',                             \n",
    "        r'(\\b\\w+\\b)\\s(\\d{1,2})(?:st|nd|rd|th)?\\s?,\\s?(\\d{4})',            \n",
    "        r'(\\b\\w+\\b)\\s(\\d{1,2})(?:st|nd|rd|th)?(\\s|,)\\s?(\\d{4})',          \n",
    "        r'(\\d{1,2})(?:st|nd|rd|th)?\\s(of\\s)?(\\b\\w+\\b),?\\s(\\d{4})',\n",
    "        r'(\\b\\w+\\b)\\s(\\d{1,2})(?:st|nd|rd|th)?,?\\s(\\d{4})']\n",
    "    \n",
    "    month_map = {\n",
    "        'january': '01', 'february': '02', 'march': '03', 'april': '04',\n",
    "        'may': '05', 'june': '06', 'july': '07', 'august': '08',\n",
    "        'september': '09', 'october': '10', 'november': '11', 'december': '12',\n",
    "        'jan': '01', 'feb': '02', 'mar': '03', 'apr': '04', 'jun': '06',\n",
    "        'jul': '07', 'aug': '08', 'sep': '09', 'oct': '10', 'nov': '11', 'dec': '12',\n",
    "        'January': '01', 'February': '02', 'March': '03', 'April': '04',\n",
    "        'May': '05', 'June': '06', 'July': '07', 'August': '08',\n",
    "        'September': '09', 'October': '10', 'November': '11', 'December': '12',\n",
    "        'Jan': '01', 'Feb': '02', 'Mar': '03', 'Apr': '04', 'Jun': '06',\n",
    "        'Jul': '07', 'Aug': '08', 'Sep': '09', 'Oct': '10', 'Nov': '11', 'Dec': '12'\n",
    "    }\n",
    "\n",
    "    for pattern in patterns:\n",
    "        match = re.search(pattern, text, re.IGNORECASE)\n",
    "        if match:\n",
    "            groups = match.groups()\n",
    "            if len(groups) == 4: \n",
    "                if groups[0].isdigit(): \n",
    "                    day = groups[0].zfill(2)\n",
    "                    month = month_map[groups[2].lower()]\n",
    "                    year = groups[3]\n",
    "                else:  \n",
    "                    month = month_map[groups[0].lower()]\n",
    "                    day = groups[1].zfill(2)\n",
    "                    year = groups[2]\n",
    "            elif len(groups) == 3:  \n",
    "                year, month, day = groups\n",
    "                day = day.zfill(2)\n",
    "                month = month.zfill(2)\n",
    "                if len(year) == 2: \n",
    "                    year = \"20\" + year if int(year) <= 50 else \"19\" + year\n",
    "            elif len(groups) == 2: \n",
    "                day, month, year = groups\n",
    "                day = day.zfill(2)\n",
    "                month = month.zfill(2)\n",
    "                if len(year) == 2: \n",
    "                    year = \"20\" + year if int(year) <= 50 else \"19\" + year\n",
    "\n",
    "            return f\"{day}/{month}/{year}\"\n",
    "    \n",
    "    return \"No date found\""
   ]
  },
  {
   "cell_type": "code",
   "execution_count": 17,
   "id": "70ea6a69",
   "metadata": {},
   "outputs": [
    {
     "data": {
      "text/html": [
       "<div>\n",
       "<style scoped>\n",
       "    .dataframe tbody tr th:only-of-type {\n",
       "        vertical-align: middle;\n",
       "    }\n",
       "\n",
       "    .dataframe tbody tr th {\n",
       "        vertical-align: top;\n",
       "    }\n",
       "\n",
       "    .dataframe thead th {\n",
       "        text-align: right;\n",
       "    }\n",
       "</style>\n",
       "<table border=\"1\" class=\"dataframe\">\n",
       "  <thead>\n",
       "    <tr style=\"text-align: right;\">\n",
       "      <th></th>\n",
       "      <th>Input</th>\n",
       "      <th>Expected Output</th>\n",
       "      <th>Parsed Date</th>\n",
       "      <th>Match</th>\n",
       "    </tr>\n",
       "  </thead>\n",
       "  <tbody>\n",
       "    <tr>\n",
       "      <th>0</th>\n",
       "      <td>The event will take place on March 5, 2023.</td>\n",
       "      <td>05/03/2023</td>\n",
       "      <td>2023/05/March</td>\n",
       "      <td>False</td>\n",
       "    </tr>\n",
       "    <tr>\n",
       "      <th>1</th>\n",
       "      <td>Her birthday is on 07/08/1990.</td>\n",
       "      <td>07/08/1990</td>\n",
       "      <td>1990/08/2007</td>\n",
       "      <td>False</td>\n",
       "    </tr>\n",
       "    <tr>\n",
       "      <th>2</th>\n",
       "      <td>The deadline is 2022-12-31.</td>\n",
       "      <td>31/12/2022</td>\n",
       "      <td>31/12/2022</td>\n",
       "      <td>True</td>\n",
       "    </tr>\n",
       "    <tr>\n",
       "      <th>3</th>\n",
       "      <td>We met on 1st of January 2000.</td>\n",
       "      <td>01/01/2000</td>\n",
       "      <td>01/01/2000</td>\n",
       "      <td>True</td>\n",
       "    </tr>\n",
       "    <tr>\n",
       "      <th>4</th>\n",
       "      <td>The concert is scheduled for 15th September, 2...</td>\n",
       "      <td>15/09/2021</td>\n",
       "      <td>15/09/2021</td>\n",
       "      <td>True</td>\n",
       "    </tr>\n",
       "  </tbody>\n",
       "</table>\n",
       "</div>"
      ],
      "text/plain": [
       "                                               Input Expected Output  \\\n",
       "0        The event will take place on March 5, 2023.      05/03/2023   \n",
       "1                     Her birthday is on 07/08/1990.      07/08/1990   \n",
       "2                        The deadline is 2022-12-31.      31/12/2022   \n",
       "3                     We met on 1st of January 2000.      01/01/2000   \n",
       "4  The concert is scheduled for 15th September, 2...      15/09/2021   \n",
       "\n",
       "     Parsed Date  Match  \n",
       "0  2023/05/March  False  \n",
       "1   1990/08/2007  False  \n",
       "2     31/12/2022   True  \n",
       "3     01/01/2000   True  \n",
       "4     15/09/2021   True  "
      ]
     },
     "execution_count": 17,
     "metadata": {},
     "output_type": "execute_result"
    }
   ],
   "source": [
    "df['Parsed Date'] = df['Input'].apply(parse_date)\n",
    "df.head()"
   ]
  },
  {
   "cell_type": "markdown",
   "id": "8bdc8851",
   "metadata": {},
   "source": [
    "#### Checking if the Parsed Date and Expected Output match"
   ]
  },
  {
   "cell_type": "code",
   "execution_count": 18,
   "id": "22f41e49",
   "metadata": {},
   "outputs": [
    {
     "data": {
      "text/html": [
       "<div>\n",
       "<style scoped>\n",
       "    .dataframe tbody tr th:only-of-type {\n",
       "        vertical-align: middle;\n",
       "    }\n",
       "\n",
       "    .dataframe tbody tr th {\n",
       "        vertical-align: top;\n",
       "    }\n",
       "\n",
       "    .dataframe thead th {\n",
       "        text-align: right;\n",
       "    }\n",
       "</style>\n",
       "<table border=\"1\" class=\"dataframe\">\n",
       "  <thead>\n",
       "    <tr style=\"text-align: right;\">\n",
       "      <th></th>\n",
       "      <th>Input</th>\n",
       "      <th>Expected Output</th>\n",
       "      <th>Parsed Date</th>\n",
       "      <th>Match</th>\n",
       "    </tr>\n",
       "  </thead>\n",
       "  <tbody>\n",
       "    <tr>\n",
       "      <th>0</th>\n",
       "      <td>The event will take place on March 5, 2023.</td>\n",
       "      <td>05/03/2023</td>\n",
       "      <td>2023/05/March</td>\n",
       "      <td>False</td>\n",
       "    </tr>\n",
       "    <tr>\n",
       "      <th>1</th>\n",
       "      <td>Her birthday is on 07/08/1990.</td>\n",
       "      <td>07/08/1990</td>\n",
       "      <td>1990/08/2007</td>\n",
       "      <td>False</td>\n",
       "    </tr>\n",
       "    <tr>\n",
       "      <th>2</th>\n",
       "      <td>The deadline is 2022-12-31.</td>\n",
       "      <td>31/12/2022</td>\n",
       "      <td>31/12/2022</td>\n",
       "      <td>True</td>\n",
       "    </tr>\n",
       "    <tr>\n",
       "      <th>3</th>\n",
       "      <td>We met on 1st of January 2000.</td>\n",
       "      <td>01/01/2000</td>\n",
       "      <td>01/01/2000</td>\n",
       "      <td>True</td>\n",
       "    </tr>\n",
       "    <tr>\n",
       "      <th>4</th>\n",
       "      <td>The concert is scheduled for 15th September, 2...</td>\n",
       "      <td>15/09/2021</td>\n",
       "      <td>15/09/2021</td>\n",
       "      <td>True</td>\n",
       "    </tr>\n",
       "    <tr>\n",
       "      <th>...</th>\n",
       "      <td>...</td>\n",
       "      <td>...</td>\n",
       "      <td>...</td>\n",
       "      <td>...</td>\n",
       "    </tr>\n",
       "    <tr>\n",
       "      <th>95</th>\n",
       "      <td>We celebrate Independence Day on 2023-07-04, a...</td>\n",
       "      <td>04/07/2023</td>\n",
       "      <td>04/07/2023</td>\n",
       "      <td>True</td>\n",
       "    </tr>\n",
       "    <tr>\n",
       "      <th>96</th>\n",
       "      <td>The final date for submission is 30th November...</td>\n",
       "      <td>30/11/2022</td>\n",
       "      <td>30/11/2022</td>\n",
       "      <td>True</td>\n",
       "    </tr>\n",
       "    <tr>\n",
       "      <th>97</th>\n",
       "      <td>The annual conference is on 15th October 2023,...</td>\n",
       "      <td>15/10/2023</td>\n",
       "      <td>15/10/2023</td>\n",
       "      <td>True</td>\n",
       "    </tr>\n",
       "    <tr>\n",
       "      <th>98</th>\n",
       "      <td>His birthdate, noted as 1990-05-20, is in the ...</td>\n",
       "      <td>20/05/1990</td>\n",
       "      <td>20/05/1990</td>\n",
       "      <td>True</td>\n",
       "    </tr>\n",
       "    <tr>\n",
       "      <th>99</th>\n",
       "      <td>The festival will be celebrated on 12th August...</td>\n",
       "      <td>12/08/2024</td>\n",
       "      <td>12/08/2024</td>\n",
       "      <td>True</td>\n",
       "    </tr>\n",
       "  </tbody>\n",
       "</table>\n",
       "<p>100 rows × 4 columns</p>\n",
       "</div>"
      ],
      "text/plain": [
       "                                                Input Expected Output  \\\n",
       "0         The event will take place on March 5, 2023.      05/03/2023   \n",
       "1                      Her birthday is on 07/08/1990.      07/08/1990   \n",
       "2                         The deadline is 2022-12-31.      31/12/2022   \n",
       "3                      We met on 1st of January 2000.      01/01/2000   \n",
       "4   The concert is scheduled for 15th September, 2...      15/09/2021   \n",
       "..                                                ...             ...   \n",
       "95  We celebrate Independence Day on 2023-07-04, a...      04/07/2023   \n",
       "96  The final date for submission is 30th November...      30/11/2022   \n",
       "97  The annual conference is on 15th October 2023,...      15/10/2023   \n",
       "98  His birthdate, noted as 1990-05-20, is in the ...      20/05/1990   \n",
       "99  The festival will be celebrated on 12th August...      12/08/2024   \n",
       "\n",
       "      Parsed Date  Match  \n",
       "0   2023/05/March  False  \n",
       "1    1990/08/2007  False  \n",
       "2      31/12/2022   True  \n",
       "3      01/01/2000   True  \n",
       "4      15/09/2021   True  \n",
       "..            ...    ...  \n",
       "95     04/07/2023   True  \n",
       "96     30/11/2022   True  \n",
       "97     15/10/2023   True  \n",
       "98     20/05/1990   True  \n",
       "99     12/08/2024   True  \n",
       "\n",
       "[100 rows x 4 columns]"
      ]
     },
     "execution_count": 18,
     "metadata": {},
     "output_type": "execute_result"
    }
   ],
   "source": [
    "df['Match'] = df['Parsed Date'] == df['Expected Output']\n",
    "df"
   ]
  },
  {
   "cell_type": "markdown",
   "id": "37663036",
   "metadata": {},
   "source": [
    "#### Count of Wrongly Parsed Dates"
   ]
  },
  {
   "cell_type": "code",
   "execution_count": 23,
   "id": "f6787afe",
   "metadata": {},
   "outputs": [
    {
     "data": {
      "text/plain": [
       "49"
      ]
     },
     "execution_count": 23,
     "metadata": {},
     "output_type": "execute_result"
    }
   ],
   "source": [
    "df[df['Match'] == False]['Match'].count()"
   ]
  },
  {
   "cell_type": "markdown",
   "id": "00770536",
   "metadata": {},
   "source": [
    "#### Count of Correctly Parsed Dates"
   ]
  },
  {
   "cell_type": "code",
   "execution_count": 24,
   "id": "689565ef",
   "metadata": {},
   "outputs": [
    {
     "data": {
      "text/plain": [
       "51"
      ]
     },
     "execution_count": 24,
     "metadata": {},
     "output_type": "execute_result"
    }
   ],
   "source": [
    "df[df['Match'] == True]['Match'].count()"
   ]
  }
 ],
 "metadata": {
  "kernelspec": {
   "display_name": "Python 3 (ipykernel)",
   "language": "python",
   "name": "python3"
  },
  "language_info": {
   "codemirror_mode": {
    "name": "ipython",
    "version": 3
   },
   "file_extension": ".py",
   "mimetype": "text/x-python",
   "name": "python",
   "nbconvert_exporter": "python",
   "pygments_lexer": "ipython3",
   "version": "3.10.9"
  }
 },
 "nbformat": 4,
 "nbformat_minor": 5
}
